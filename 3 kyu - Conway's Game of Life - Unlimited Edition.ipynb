{
 "cells": [
  {
   "cell_type": "markdown",
   "metadata": {},
   "source": [
    "# Conway's Game of Life - Unlimited Editition - 3 kyu\n",
    "\n",
    "[Kata Source](http://www.codewars.com/kata/52423db9add6f6fc39000354)\n",
    "\n",
    "Given a 2D array and a number of generations, compute n timesteps of Conway's Game of Life.\n",
    "\n",
    "The rules of the game are: 1. Any live cell with fewer than two live neighbours dies, as if caused by underpopulation. 2. Any live cell with more than three live neighbours dies, as if by overcrowding. 3. Any live cell with two or three live neighbours lives on to the next generation. 4. Any dead cell with exactly three live neighbours becomes a live cell.\n",
    "\n",
    "Each cell's neighborhood is the 8 cells immediately around it. The universe is infinite in both the x and y dimensions and all cells are initially dead - except for those specified in the arguments. The return value should be a 2d array cropped around all of the living cells. (If there are no living cells, then return [[]].)\n",
    "\n",
    "For illustration purposes, 0 and 1 will be represented as ░░ and ▓▓ blocks respectively. You can take advantage of the htmlize function to get a text representation of the universe: eg:"
   ]
  },
  {
   "cell_type": "code",
   "execution_count": null,
   "metadata": {
    "collapsed": true
   },
   "outputs": [],
   "source": [
    "print htmlize(cells)"
   ]
  },
  {
   "cell_type": "markdown",
   "metadata": {},
   "source": [
    "# Solution\n",
    "\n",
    "We need a representation of the board that we can iterate in an arbitrary order and that can be very large and sparse. A matrix or table will not do as it will contain a substential amount of zeros. We will use the keys of a dictionary for this. \n",
    "\n",
    "We need a function to convert a table to a dictionary."
   ]
  },
  {
   "cell_type": "code",
   "execution_count": null,
   "metadata": {
    "collapsed": true
   },
   "outputs": [],
   "source": [
    "def convert_table_to_dict(table):\n",
    "    \n",
    "    ni = len(table)\n",
    "    nj = len(table[0])\n",
    "    \n",
    "    dict = {}\n",
    "    for i in range(ni):\n",
    "      for j in range(nj):\n",
    "        if table[i][j] == 1:\n",
    "          dict[(i,j)] = None\n",
    "          \n",
    "    return dict"
   ]
  },
  {
   "cell_type": "markdown",
   "metadata": {},
   "source": [
    "We also need a function to convert a dictionary to a cropped table."
   ]
  },
  {
   "cell_type": "code",
   "execution_count": null,
   "metadata": {
    "collapsed": true
   },
   "outputs": [],
   "source": [
    "def convert_dict_to_table(dict):\n",
    "\n",
    "  keys = dict.keys()\n",
    "  \n",
    "  if not keys:\n",
    "    mi = mj = ni = nj = 0\n",
    "  else:\n",
    "    mi = min(map(lambda x: x[0], keys))\n",
    "    mj = min(map(lambda x: x[1], keys))\n",
    "    ni = max(map(lambda x: x[0], keys))\n",
    "    nj = max(map(lambda x: x[1], keys))\n",
    "  \n",
    "  table = [[0 for j in range(nj-mj+1)] for i in range(ni-mi+1)]\n",
    "  \n",
    "  for (i,j) in keys:\n",
    "    table[i-mi][j-mj] = 1\n",
    "  \n",
    "  return table"
   ]
  },
  {
   "cell_type": "markdown",
   "metadata": {},
   "source": [
    "For each generations... \n",
    "* We iterate over all the cells currently active and create a set containing those along with their neighbours. \n",
    "* We then iterate over all of those, count the neighbours that are alive, and decide whether the cell should be alive or not in the next generation."
   ]
  },
  {
   "cell_type": "code",
   "execution_count": null,
   "metadata": {
    "collapsed": true
   },
   "outputs": [],
   "source": [
    "from itertools import product\n",
    "\n",
    "def get_generation(cells, generations):\n",
    "\n",
    "  cells_dict = convert_table_to_dict(cells)\n",
    "\n",
    "  for n in range(generations):\n",
    "    \n",
    "    stack = {}\n",
    "    cells_new = {}\n",
    "    \n",
    "    for (i,j) in cells_dict:\n",
    "      for (di, dj) in product((-1,0,1), (-1,0,1)):\n",
    "        stack[(i+di,j+dj)] = None\n",
    "    \n",
    "    for (i,j) in stack:\n",
    "      neighbours = 0\n",
    "      for (di, dj) in product((-1,0,1), (-1,0,1)):\n",
    "        if (i+di,j+dj) in cells_dict and (di,dj) != (0,0):\n",
    "          neighbours += 1\n",
    "        \n",
    "      if neighbours == 3:\n",
    "        cells_new[(i,j)] = None\n",
    "      elif neighbours == 2 and (i,j) in cells_dict:\n",
    "        cells_new[(i,j)] = None\n",
    "          \n",
    "    cells_dict = cells_new\n",
    "          \n",
    "  return convert_dict_to_table(cells_dict)"
   ]
  },
  {
   "cell_type": "markdown",
   "metadata": {},
   "source": [
    "# Test\n",
    "\n",
    "Here's the provided tests."
   ]
  },
  {
   "cell_type": "code",
   "execution_count": null,
   "metadata": {
    "collapsed": true
   },
   "outputs": [],
   "source": [
    "def htmlize(array):\n",
    "    s = []\n",
    "    for row in array:\n",
    "        for cell in row:\n",
    "            s.append('▓▓' if cell else '░░')\n",
    "        s.append('<br/>')\n",
    "    return ''.join(s)\n",
    "\n",
    "start = [[1,0,0],\n",
    "         [0,1,1],\n",
    "         [1,1,0]]\n",
    "end   = [[0,1,0],\n",
    "         [0,0,1],\n",
    "         [1,1,1]]\n",
    "         \n",
    "test.describe('Glider<br/>' + htmlize(start))\n",
    "test.it('Glider 1')\n",
    "\n",
    "resp = get_generation(start, 1)\n",
    "test.expect(resp == end, 'Got<br/>' + htmlize(resp) + '<br/>instead of<br/>' + htmlize(end))"
   ]
  }
 ],
 "metadata": {
  "kernelspec": {
   "display_name": "Python 3",
   "language": "python",
   "name": "python3"
  },
  "language_info": {
   "codemirror_mode": {
    "name": "ipython",
    "version": 3
   },
   "file_extension": ".py",
   "mimetype": "text/x-python",
   "name": "python",
   "nbconvert_exporter": "python",
   "pygments_lexer": "ipython3",
   "version": "3.4.3"
  }
 },
 "nbformat": 4,
 "nbformat_minor": 0
}
