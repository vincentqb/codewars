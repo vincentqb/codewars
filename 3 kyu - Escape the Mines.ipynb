{
 "cells": [
  {
   "cell_type": "markdown",
   "metadata": {},
   "source": [
    "# Escape the Mines\n",
    "\n",
    "A poor miner is trapped in a mine and you have to help him to get out !\n",
    "\n",
    "Only, the mine is all dark so you have to tell him where to go.\n",
    "\n",
    "In this kata, you will have to implement a method solve(map, miner, exit) that has to return the path the miner must take to reach the exit as an array of moves, such as : ['up', 'down', 'right', 'left']. There are 4 possible moves, up, down, left and right, no diagonal.\n",
    "\n",
    "map is a 2-dimensional array of boolean values, representing squares. false for walls, true for open squares (where the miner can walk). It will never be larger than 5 x 5. It is laid out as an array of columns. All columns will always be the same size, though not necessarily the same size as rows (in other words, maps can be rectangular). The map will never contain any loop, so there will always be only one possible path. The map may contain dead-ends though.\n",
    "\n",
    "miner is the position of the miner at the start, as an object made of two zero-based integer properties, x and y. For example {x:0, y:0} would be the top-left corner.\n",
    "\n",
    "exit is the position of the exit, in the same format as miner.\n",
    "\n",
    "Note that the miner can't go outside the map, as it is a tunnel."
   ]
  },
  {
   "cell_type": "markdown",
   "metadata": {},
   "source": [
    "## Provided tests"
   ]
  },
  {
   "cell_type": "code",
   "execution_count": null,
   "metadata": {
    "collapsed": true
   },
   "outputs": [],
   "source": [
    "Test.describe('A trivial map (1x1)')\n",
    "minemap = [[True]]\n",
    "  \n",
    "Test.it('Should return an empty array, since we\\'re already at the goal')\n",
    "Test.assert_equals(solve(minemap, {'x':0,'y':0}, {'x':0,'y':0}), \n",
    "                   [])\n",
    "\n",
    "Test.describe('A pretty simple map (2x2)')\n",
    "minemap = [[True, False],\n",
    "    [True, True]]\n",
    "   \n",
    "Test.it('Should return the only correct move')\n",
    "Test.assert_equals(solve(minemap, {'x':0,'y':0}, {'x':1,'y':0}), \n",
    "                   ['right'])\n",
    "  \n",
    "Test.it('Should return the only moves necessary')\n",
    "Test.assert_equals(solve(minemap, {'x':0,'y':0}, {'x':1,'y':1}), \n",
    "                   ['right', 'down'])\n",
    "\n",
    "Test.describe('A linear map(1x4)')\n",
    "minemap = [[True], [True], [True], [True]]\n",
    "  \n",
    "Test.it('Should return a chain of moves to the right')\n",
    "Test.assert_equals(solve(minemap, {'x':0,'y':0}, {'x':3,'y':0}), \n",
    "                   ['right', 'right', 'right'])\n",
    "  \n",
    "Test.it('Should return a chain of moves to the left')\n",
    "Test.assert_equals(solve(minemap, {'x':3,'y':0}, {'x':0,'y':0}), \n",
    "                   ['left', 'left', 'left'])\n",
    "\n",
    "Test.describe('Should walk around an obstacle (3x3 map)')\n",
    "minemap = [[True, True, True],\n",
    "  [False, False, True],\n",
    "  [True, True, True]]\n",
    "  \n",
    "Test.it('Should return the right sequence of moves')\n",
    "Test.assert_equals(solve(minemap, {'x':0,'y':0}, {'x':2,'y':0}), \n",
    "                   ['down', 'down', 'right', 'right', 'up', 'up'])"
   ]
  },
  {
   "cell_type": "markdown",
   "metadata": {},
   "source": [
    "## Solution"
   ]
  },
  {
   "cell_type": "code",
   "execution_count": null,
   "metadata": {
    "collapsed": true
   },
   "outputs": [],
   "source": [
    "def on_map(map, miner):\n",
    "  if 0 <= miner['x'] < len(map) and 0 <= miner['y'] < len(map):\n",
    "    return True\n",
    "  else:\n",
    "    return False"
   ]
  },
  {
   "cell_type": "code",
   "execution_count": null,
   "metadata": {
    "collapsed": true
   },
   "outputs": [],
   "source": [
    "def solve(map, miner, exit, path = None):\n",
    "  x_miner = miner['x']\n",
    "  y_miner = miner['y']\n",
    "  \n",
    "  if path is None:\n",
    "    path = []\n",
    "  \n",
    "  if miner == exit:\n",
    "    return path\n",
    "    \n",
    "  translate = {'up':(0,-1), (0,-1):'up',\n",
    "               'down':(0,1), (0,1):'down',\n",
    "               'left':(-1,0), (-1,0):'left',\n",
    "               'right':(1,0), (1,0):'right'}\n",
    "               \n",
    "  if len(path) > 0 :\n",
    "    origin = translate[path[-1]]\n",
    "    origin = tuple(-x for x in origin)\n",
    "  else:\n",
    "    origin = None\n",
    "  \n",
    "  for (dx,dy) in (-1,0), (1,0), (0,-1), (0,1):\n",
    "    if (dx,dy) == origin:\n",
    "      continue\n",
    "    if on_map(map, {'x':x_miner+dx, 'y':y_miner+dy}) and \\\n",
    "        map[x_miner+dx][y_miner+dy]:\n",
    "      path_tmp = solve(map, {'x':x_miner+dx, 'y':y_miner+dy}, \n",
    "                       exit, path + [translate[(dx,dy)]])\n",
    "      if path_tmp[-1] != 'fail':\n",
    "        return path_tmp\n",
    "    \n",
    "  return path + ['fail']"
   ]
  }
 ],
 "metadata": {
  "kernelspec": {
   "display_name": "Python 3",
   "language": "python",
   "name": "python3"
  },
  "language_info": {
   "codemirror_mode": {
    "name": "ipython",
    "version": 3
   },
   "file_extension": ".py",
   "mimetype": "text/x-python",
   "name": "python",
   "nbconvert_exporter": "python",
   "pygments_lexer": "ipython3",
   "version": "3.4.3"
  }
 },
 "nbformat": 4,
 "nbformat_minor": 0
}
